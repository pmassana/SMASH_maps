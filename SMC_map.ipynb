{
 "cells": [
  {
   "cell_type": "code",
   "execution_count": 15,
   "metadata": {},
   "outputs": [],
   "source": [
    "import numpy as np\n",
    "import matplotlib.pyplot as plt\n",
    "import matplotlib.cm as cm\n",
    "import matplotlib.colors as colors\n",
    "import matplotlib\n",
    "from astropy.io import fits\n",
    "from astropy.coordinates import SkyCoord\n",
    "from astropy import units as u\n",
    "from astropy.wcs import WCS\n",
    "import astropy\n",
    "import sys\n",
    "from matplotlib.path import Path"
   ]
  },
  {
   "cell_type": "markdown",
   "metadata": {},
   "source": [
    "# Step 1. We load the different files"
   ]
  },
  {
   "cell_type": "code",
   "execution_count": 16,
   "metadata": {},
   "outputs": [],
   "source": [
    "def read_fits(name):\n",
    "    hdulist = fits.open(name)\n",
    "    field_data = hdulist[1].data\n",
    "    header = hdulist[1].header\n",
    "    hdulist.close()\n",
    "    return field_data, header"
   ]
  },
  {
   "cell_type": "code",
   "execution_count": 17,
   "metadata": {},
   "outputs": [],
   "source": [
    "field_list = ['12', '16']"
   ]
  },
  {
   "cell_type": "code",
   "execution_count": 18,
   "metadata": {},
   "outputs": [
    {
     "name": "stdout",
     "output_type": "stream",
     "text": [
      "We have loaded the following files:\n",
      "12\n",
      "16\n"
     ]
    }
   ],
   "source": [
    "data_dictionary = {}\n",
    "coordinates_dictionary = {}\n",
    "print('We have loaded the following files:')\n",
    "for field in field_list:\n",
    "    data_dictionary[field], header = read_fits('/home/pol/PhD_DATA/SMASH_DATA/Field%s_allobj_stars.fits.gz' % (field))\n",
    "    coordinates_dictionary[field] = SkyCoord(data_dictionary[field]['RA'], data_dictionary[field]['DEC'], unit = 'deg')\n",
    "    print field"
   ]
  },
  {
   "cell_type": "markdown",
   "metadata": {},
   "source": [
    "# Step 2. We find the distances between all stars"
   ]
  },
  {
   "cell_type": "code",
   "execution_count": 14,
   "metadata": {},
   "outputs": [
    {
     "name": "stdout",
     "output_type": "stream",
     "text": [
      "<SkyCoord (ICRS): (ra, dec) in deg\n",
      "    [(15.90476785, -74.56239271), (15.92003673, -74.54928515),\n",
      "     (16.05310659, -74.55173814), ..., (16.84750738, -74.94922557),\n",
      "     (18.89483709, -74.94452378), (16.92823194, -75.38643206)]>\n",
      "<SkyCoord (ICRS): (ra, dec) in deg\n",
      "    [(20.79604346, -73.4388173 ), (20.79242883, -73.49742692),\n",
      "     (20.79880173, -73.51437226), ..., (23.09667219, -74.86804309),\n",
      "     (24.66426421, -75.02156516), (24.5574442 , -75.02267122)]>\n"
     ]
    }
   ],
   "source": [
    "for field in field_list:\n",
    "    field_coordinates = coordinates_dictionary[field]\n",
    "    for star in field_coordinates:\n",
    "        all_distances = "
   ]
  },
  {
   "cell_type": "code",
   "execution_count": null,
   "metadata": {},
   "outputs": [],
   "source": [
    "separation_dictionary = {}\n",
    "for i, star in enumerate(coordinates_dictionary['12']):\n",
    "    separation_dictionary[i] = star.separation(coordinates_dictionary['16'])"
   ]
  },
  {
   "cell_type": "code",
   "execution_count": null,
   "metadata": {},
   "outputs": [],
   "source": [
    "plt.hist(separation_dictionary[0])\n",
    "plt.show()"
   ]
  }
 ],
 "metadata": {
  "kernelspec": {
   "display_name": "Python 3",
   "language": "python",
   "name": "python3"
  },
  "language_info": {
   "codemirror_mode": {
    "name": "ipython",
    "version": 2
   },
   "file_extension": ".py",
   "mimetype": "text/x-python",
   "name": "python",
   "nbconvert_exporter": "python",
   "pygments_lexer": "ipython2",
   "version": "2.7.12"
  }
 },
 "nbformat": 4,
 "nbformat_minor": 2
}

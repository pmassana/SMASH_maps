{
 "cells": [
  {
   "cell_type": "code",
   "execution_count": 1,
   "metadata": {},
   "outputs": [],
   "source": [
    "import numpy as np\n",
    "import matplotlib.pyplot as plt\n",
    "import matplotlib.cm as cm\n",
    "import matplotlib.colors as colors\n",
    "import matplotlib\n",
    "from astropy.io import fits\n",
    "from astropy.coordinates import SkyCoord\n",
    "from astropy import units as u\n",
    "from astropy.wcs import WCS\n",
    "import astropy\n",
    "import sys\n",
    "from matplotlib.path import Path"
   ]
  },
  {
   "cell_type": "code",
   "execution_count": 2,
   "metadata": {},
   "outputs": [],
   "source": [
    "def read_fits(name):\n",
    "    hdulist = fits.open(name)\n",
    "    field_data = hdulist[1].data\n",
    "    header = hdulist[1].header\n",
    "    hdulist.close()\n",
    "    return field_data, header"
   ]
  },
  {
   "cell_type": "markdown",
   "metadata": {},
   "source": [
    "# Step 1. We load the different files"
   ]
  },
  {
   "cell_type": "code",
   "execution_count": 17,
   "metadata": {},
   "outputs": [],
   "source": [
    "field_list = ['12', '16']"
   ]
  },
  {
   "cell_type": "code",
   "execution_count": 18,
   "metadata": {},
   "outputs": [
    {
     "name": "stdout",
     "output_type": "stream",
     "text": [
      "We have loaded the following files:\n",
      "12\n",
      "16\n"
     ]
    }
   ],
   "source": [
    "data_dictionary = {}\n",
    "coordinates_dictionary = {}\n",
    "print('We have loaded the following files:')\n",
    "for field in field_list:\n",
    "    data_dictionary[field], header = read_fits('/home/pol/PhD_DATA/SMASH_DATA/Field%s_allobj_stars.fits.gz' % (field))\n",
    "    coordinates_dictionary[field] = SkyCoord(data_dictionary[field]['RA'], data_dictionary[field]['DEC'], unit = 'deg')\n",
    "    print field"
   ]
  },
  {
   "cell_type": "markdown",
   "metadata": {},
   "source": [
    "# Step 2. We find the distances between all stars"
   ]
  },
  {
   "cell_type": "code",
   "execution_count": 14,
   "metadata": {},
   "outputs": [
    {
     "name": "stdout",
     "output_type": "stream",
     "text": [
      "<SkyCoord (ICRS): (ra, dec) in deg\n",
      "    [(15.90476785, -74.56239271), (15.92003673, -74.54928515),\n",
      "     (16.05310659, -74.55173814), ..., (16.84750738, -74.94922557),\n",
      "     (18.89483709, -74.94452378), (16.92823194, -75.38643206)]>\n",
      "<SkyCoord (ICRS): (ra, dec) in deg\n",
      "    [(20.79604346, -73.4388173 ), (20.79242883, -73.49742692),\n",
      "     (20.79880173, -73.51437226), ..., (23.09667219, -74.86804309),\n",
      "     (24.66426421, -75.02156516), (24.5574442 , -75.02267122)]>\n"
     ]
    }
   ],
   "source": [
    "for field in field_list:\n",
    "    field_coordinates = coordinates_dictionary[field]\n",
    "    for star in field_coordinates:\n",
    "        all_distances = "
   ]
  },
  {
   "cell_type": "code",
   "execution_count": null,
   "metadata": {},
   "outputs": [],
   "source": [
    "separation_dictionary = {}\n",
    "for i, star in enumerate(coordinates_dictionary['12']):\n",
    "    separation_dictionary[i] = star.separation(coordinates_dictionary['16'])"
   ]
  },
  {
   "cell_type": "code",
   "execution_count": null,
   "metadata": {},
   "outputs": [],
   "source": [
    "plt.hist(separation_dictionary[0])\n",
    "plt.show()"
   ]
  },
  {
   "cell_type": "markdown",
   "metadata": {},
   "source": [
    "# Scrap everything, we are starting all over again"
   ]
  },
  {
   "cell_type": "code",
   "execution_count": 7,
   "metadata": {},
   "outputs": [
    {
     "name": "stdout",
     "output_type": "stream",
     "text": [
      "current 12 SKYAREA: 2.81\n",
      "new     16 SKYAREA: 2.8\n",
      "\u001b[0;33mWARNING\u001b[0m: AstropyDeprecationWarning: \"clobber\" was deprecated in version 2.0 and will be removed in a future version. Use argument \"overwrite\" instead. [__main__]\n"
     ]
    }
   ],
   "source": [
    "!python /user/HS128/pm00518/virtualenvs/venv/bin/nway-write-header.py /scratch/SMASH_DATA/Field16_allobj_stars.fits.gz 16 2.8 "
   ]
  },
  {
   "cell_type": "code",
   "execution_count": 8,
   "metadata": {},
   "outputs": [
    {
     "name": "stdout",
     "output_type": "stream",
     "text": [
      "current  SKYAREA: None\n",
      "new     12 SKYAREA: 2.81\n",
      "\u001b[0;33mWARNING\u001b[0m: AstropyDeprecationWarning: \"clobber\" was deprecated in version 2.0 and will be removed in a future version. Use argument \"overwrite\" instead. [__main__]\n"
     ]
    }
   ],
   "source": [
    "!python /user/HS128/pm00518/virtualenvs/venv/bin/nway-write-header.py /scratch/SMASH_DATA/Field12_allobj_stars.fits.gz 12 2.81"
   ]
  },
  {
   "cell_type": "code",
   "execution_count": 15,
   "metadata": {},
   "outputs": [],
   "source": [
    "output_file = '/user/HS128/pm00518/SMASH_maps/output_test_12_16.fits'"
   ]
  },
  {
   "cell_type": "code",
   "execution_count": 18,
   "metadata": {},
   "outputs": [
    {
     "name": "stdout",
     "output_type": "stream",
     "text": [
      "NWAY arguments:\n",
      "    catalogues:  /scratch/SMASH_DATA/Field16_allobj_stars.fits.gz, /scratch/SMASH_DATA/Field12_allobj_stars.fits.gz\n",
      "    position errors/columns:  :RAERR, :RAERR\n",
      "      from catalogue \"16\" (392250), density gives 5.78e+09 on entire sky\n",
      "      from catalogue \"12\" (515997), density gives 7.58e+09 on entire sky\n",
      "    magnitude columns:  \n",
      "\n",
      "matching with 2.000000 arcsec radius\n",
      "matching: 202399823250 naive possibilities\n",
      "matching: hashing\n",
      "    using RA  columns: RA, RA\n",
      "    using DEC columns: DEC, DEC\n",
      "matching: healpix hashing on pixel resolution ~ 2.254538 arcsec (nside=65536)\n",
      "100%|908247|####################################################|Time:  0:00:08\n",
      "matching: collecting from 2136361 buckets, creating cartesian products ...\n",
      "100%|2136361|###################################################|Time:  0:00:07\n",
      "matching: 486159 unique matches from cartesian product. sorting ...\n",
      "merging in 74 columns from input catalogues ...\n",
      "100%| 74|#######################################################|Time:  0:00:02\n",
      "    adding angular separation columns\n",
      "matching: 407746 matches after filtering by search radius\n",
      "\n",
      "Computing distance-based probabilities ...\n",
      "  finding position error columns ...\n",
      "    Position error for \"16\": found column 16_RAERR: Values are [0.002633..1.140573]\n",
      "    Position error for \"12\": found column 12_RAERR: Values are [0.002665..1.394844]\n",
      "  finding position columns ...\n",
      "  building primary_id index ...\n",
      "  computing probabilities ...\n",
      "      correcting for unrelated associations ... not necessary\n",
      "\n",
      "Computing final probabilities ...\n",
      "    grouping by column \"16_ID\" and flagging ...\n",
      "100%|392250|####################################################|Time:  0:00:10\n",
      "\n",
      "\n",
      "  You can calibrate a p_any cut-off with the following steps:\n",
      "   1) Create a offset catalogue to simulate random sky positions:\n",
      "      nway-create-fake-catalogue.py --radius 4 /scratch/SMASH_DATA/Field16_allobj_stars.fits.gz /scratch/SMASH_DATA/Field16_allobj_stars.gz-fake.fits\n",
      "   2) Match the offset catalogue in the same way as this run:\n",
      "      nway.py /scratch/SMASH_DATA/Field16_allobj_stars.gz-fake.fits :RAERR /scratch/SMASH_DATA/Field12_allobj_stars.fits.gz :RAERR --out=/scratch/SMASH_DATA/SMC_contiguous_catalogue/output_test_12_16.fits-fake.fits --radius 2\n",
      "   3) determining the p_any cutoff that corresponds to a false-detection rate\n",
      "      nway-calibrate-cutoff.py /scratch/SMASH_DATA/SMC_contiguous_catalogue/output_test_12_16.fits /scratch/SMASH_DATA/SMC_contiguous_catalogue/output_test_12_16.fits-fake.fits\n",
      "\n",
      "\n",
      "creating output FITS file ...\n",
      "    writing \"/scratch/SMASH_DATA/SMC_contiguous_catalogue/output_test_12_16.fits\" (407746 rows, 81 columns) ...\n"
     ]
    }
   ],
   "source": [
    "!python nway.py /scratch/SMASH_DATA/Field16_allobj_stars.fits.gz :RAERR /scratch/SMASH_DATA/Field12_allobj_stars.fits.gz :RAERR --out=/scratch/SMASH_DATA/SMC_contiguous_catalogue/output_test_12_16.fits --radius 2"
   ]
  },
  {
   "cell_type": "code",
   "execution_count": 21,
   "metadata": {},
   "outputs": [
    {
     "name": "stdout",
     "output_type": "stream",
     "text": [
      "NWAY arguments:\n",
      "    catalogues:  /scratch/SMASH_DATA/Field16_allobj_stars.fits.gz, /scratch/SMASH_DATA/Field12_allobj_stars.fits.gz\n",
      "    position errors/columns:  :RAERR, :RAERR\n",
      "      from catalogue \"16\" (392250), density gives 5.78e+09 on entire sky\n",
      "      from catalogue \"12\" (515997), density gives 7.58e+09 on entire sky\n",
      "    magnitude columns:  16:G\n",
      "\n",
      "matching with 2.000000 arcsec radius\n",
      "matching: 202399823250 naive possibilities\n",
      "matching: hashing\n",
      "    using RA  columns: RA, RA\n",
      "    using DEC columns: DEC, DEC\n",
      "merging in 74 columns from input catalogues ...\n",
      "100%| 74|#######################################################|Time:  0:00:02\n",
      "    adding angular separation columns\n",
      "matching: 407746 matches after filtering by search radius\n",
      "\n",
      "Computing distance-based probabilities ...\n",
      "  finding position error columns ...\n",
      "    Position error for \"16\": found column 16_RAERR: Values are [0.002633..1.140573]\n",
      "    Position error for \"12\": found column 12_RAERR: Values are [0.002665..1.394844]\n",
      "  finding position columns ...\n",
      "  building primary_id index ...\n",
      "  computing probabilities ...\n",
      "      correcting for unrelated associations ... not necessary\n",
      "\n",
      "Incorporating magnitude biases ...\n",
      "    magnitude bias \"16:G\" ...\n",
      "magnitude histogram of column \"16_G\": 392250 secure matches, 392250 insecure matches and 0 secure non-matches of 392250 total entries (392250 valid)\n",
      "Traceback (most recent call last):\n",
      "  File \"nway.py\", line 338, in <module>\n",
      "    bins, hist_sel, hist_all = magnitudeweights.adaptive_histograms(mag_all[mask_others], mag_sel[mask_sel])\n",
      "  File \"/user/HS128/pm00518/virtualenvs/venv/lib/python3.5/site-packages/nwaylib/magnitudeweights.py\", line 92, in adaptive_histograms\n",
      "    lo, hi = numpy.nanmin(mag_all), numpy.nanmax(mag_all)\n",
      "  File \"/user/HS128/pm00518/virtualenvs/venv/lib/python3.5/site-packages/numpy/lib/nanfunctions.py\", line 292, in nanmin\n",
      "    res = np.fmin.reduce(a, axis=axis, out=out, **kwargs)\n",
      "ValueError: zero-size array to reduction operation fmin which has no identity\n"
     ]
    }
   ],
   "source": [
    "!python nway.py /scratch/SMASH_DATA/Field16_allobj_stars.fits.gz :RAERR /scratch/SMASH_DATA/Field12_allobj_stars.fits.gz :RAERR --out=/scratch/SMASH_DATA/SMC_contiguous_catalogue/output_test2_12_16.fits --radius 2 --mag 16:G auto --mag-radius 1"
   ]
  },
  {
   "cell_type": "markdown",
   "metadata": {},
   "source": [
    "Ok so, so far we have established that we will use nway, but it is actually more tricky to work with than expected.\n",
    "\n",
    "The strategy now will be to create a file that has all of the information from all fields and then we will cross-match this with all the different fields. Then, we will remove all the duplicates and make a decision about what to do with the pairs from different fields. We also have to manually look at the magnitudes to see which is the best match."
   ]
  },
  {
   "cell_type": "markdown",
   "metadata": {},
   "source": [
    "# Stack all fields in 1 file"
   ]
  },
  {
   "cell_type": "code",
   "execution_count": 23,
   "metadata": {},
   "outputs": [
    {
     "name": "stdout",
     "output_type": "stream",
     "text": [
      "1253592\n",
      "515997\n",
      "392250\n"
     ]
    }
   ],
   "source": [
    "field_list = ['11', '12', '16']\n",
    "data_path = '/scratch/SMASH_DATA/'\n",
    "important_data = np.empty((6,0))\n",
    "\n",
    "for field in field_list:\n",
    "    temp_data, temp_header = read_fits(data_path+'Field%s_allobj_stars.fits.gz'%(field))\n",
    "    important_temp_data = temp_data['ID'], temp_data['RA'], temp_data['DEC'], temp_data['RAERR'], temp_data['G'], temp_data['GERR']\n",
    "    print(len(temp_data['RA']))\n",
    "    #important_data = np.empty_like(important_temp_data)\n",
    "    #print(important_data.shape)\n",
    "    important_data = np.hstack((important_data, important_temp_data))"
   ]
  },
  {
   "cell_type": "code",
   "execution_count": 25,
   "metadata": {},
   "outputs": [
    {
     "name": "stdout",
     "output_type": "stream",
     "text": [
      "[['Field11.2      ' 'Field11.4      ' 'Field11.5      ' ...\n",
      "  'Field16.1611682' 'Field16.1611684' 'Field16.1611685']\n",
      " ['15.02660523874578' '15.639410378068849' '15.741039767016154' ...\n",
      "  '23.096672194573284' '24.66426421012263' '24.557444198987422']\n",
      " ['-73.02799942079099' '-72.99136596252471' '-72.93967314621855' ...\n",
      "  '-74.86804308787266' '-75.02156515752779' '-75.02267122138626']\n",
      " ['0.0063623064' '0.0069762454' '0.014305071' ... '0.006152988'\n",
      "  '0.008114379' '0.007278092']\n",
      " ['19.147987' '19.41717' '21.236536' ... '17.627884' '17.113459'\n",
      "  '18.16932']\n",
      " ['0.002845573' '0.00269976' '0.009060527' ... '0.007122967'\n",
      "  '0.007244018' '0.0071695526']]\n"
     ]
    }
   ],
   "source": [
    "print(important_data)"
   ]
  },
  {
   "cell_type": "code",
   "execution_count": 29,
   "metadata": {
    "scrolled": true
   },
   "outputs": [
    {
     "name": "stdout",
     "output_type": "stream",
     "text": [
      "WCS Keywords\n",
      "\n",
      "Number of WCS axes: 2\n",
      "CTYPE : ''  ''  \n",
      "CRVAL : 0.0  0.0  \n",
      "CRPIX : 0.0  0.0  \n",
      "PC1_1 PC1_2  : 1.0  0.0  \n",
      "PC2_1 PC2_2  : 0.0  1.0  \n",
      "CDELT : 1.0  1.0  \n",
      "NAXIS : 386  392250\n"
     ]
    }
   ],
   "source": [
    "wcs = WCS(temp_header)\n",
    "print(wcs)"
   ]
  },
  {
   "cell_type": "code",
   "execution_count": 40,
   "metadata": {
    "scrolled": true
   },
   "outputs": [
    {
     "ename": "TypeError",
     "evalue": "cannot perform reduce with flexible type",
     "output_type": "error",
     "traceback": [
      "\u001b[0;31m---------------------------------------------------------------------------\u001b[0m",
      "\u001b[0;31mTypeError\u001b[0m                                 Traceback (most recent call last)",
      "\u001b[0;32m<ipython-input-40-87ea8b0916ca>\u001b[0m in \u001b[0;36m<module>\u001b[0;34m\u001b[0m\n\u001b[1;32m      1\u001b[0m \u001b[0mplt\u001b[0m\u001b[0;34m.\u001b[0m\u001b[0msubplot\u001b[0m\u001b[0;34m(\u001b[0m\u001b[0mprojection\u001b[0m\u001b[0;34m=\u001b[0m\u001b[0;34m'aitoff'\u001b[0m\u001b[0;34m)\u001b[0m\u001b[0;34m\u001b[0m\u001b[0m\n\u001b[0;32m----> 2\u001b[0;31m \u001b[0mimage\u001b[0m\u001b[0;34m,\u001b[0m \u001b[0mxbins\u001b[0m\u001b[0;34m,\u001b[0m \u001b[0mybins\u001b[0m \u001b[0;34m=\u001b[0m \u001b[0mnp\u001b[0m\u001b[0;34m.\u001b[0m\u001b[0mhistogram2d\u001b[0m\u001b[0;34m(\u001b[0m\u001b[0mimportant_data\u001b[0m\u001b[0;34m[\u001b[0m\u001b[0;36m1\u001b[0m\u001b[0;34m]\u001b[0m\u001b[0;34m,\u001b[0m \u001b[0mimportant_data\u001b[0m\u001b[0;34m[\u001b[0m\u001b[0;36m2\u001b[0m\u001b[0;34m]\u001b[0m\u001b[0;34m)\u001b[0m\u001b[0;34m\u001b[0m\u001b[0m\n\u001b[0m\u001b[1;32m      3\u001b[0m \u001b[0mplt\u001b[0m\u001b[0;34m.\u001b[0m\u001b[0mimshow\u001b[0m\u001b[0;34m(\u001b[0m\u001b[0mimage\u001b[0m\u001b[0;34m,\u001b[0m \u001b[0minterpolation\u001b[0m\u001b[0;34m=\u001b[0m\u001b[0;32mNone\u001b[0m\u001b[0;34m)\u001b[0m\u001b[0;34m\u001b[0m\u001b[0m\n\u001b[1;32m      4\u001b[0m \u001b[0mplt\u001b[0m\u001b[0;34m.\u001b[0m\u001b[0mshow\u001b[0m\u001b[0;34m(\u001b[0m\u001b[0;34m)\u001b[0m\u001b[0;34m\u001b[0m\u001b[0m\n",
      "\u001b[0;32m~/virtualenvs/venv/lib/python3.5/site-packages/numpy/lib/twodim_base.py\u001b[0m in \u001b[0;36mhistogram2d\u001b[0;34m(x, y, bins, range, normed, weights, density)\u001b[0m\n\u001b[1;32m    698\u001b[0m         \u001b[0mxedges\u001b[0m \u001b[0;34m=\u001b[0m \u001b[0myedges\u001b[0m \u001b[0;34m=\u001b[0m \u001b[0masarray\u001b[0m\u001b[0;34m(\u001b[0m\u001b[0mbins\u001b[0m\u001b[0;34m)\u001b[0m\u001b[0;34m\u001b[0m\u001b[0m\n\u001b[1;32m    699\u001b[0m         \u001b[0mbins\u001b[0m \u001b[0;34m=\u001b[0m \u001b[0;34m[\u001b[0m\u001b[0mxedges\u001b[0m\u001b[0;34m,\u001b[0m \u001b[0myedges\u001b[0m\u001b[0;34m]\u001b[0m\u001b[0;34m\u001b[0m\u001b[0m\n\u001b[0;32m--> 700\u001b[0;31m     \u001b[0mhist\u001b[0m\u001b[0;34m,\u001b[0m \u001b[0medges\u001b[0m \u001b[0;34m=\u001b[0m \u001b[0mhistogramdd\u001b[0m\u001b[0;34m(\u001b[0m\u001b[0;34m[\u001b[0m\u001b[0mx\u001b[0m\u001b[0;34m,\u001b[0m \u001b[0my\u001b[0m\u001b[0;34m]\u001b[0m\u001b[0;34m,\u001b[0m \u001b[0mbins\u001b[0m\u001b[0;34m,\u001b[0m \u001b[0mrange\u001b[0m\u001b[0;34m,\u001b[0m \u001b[0mnormed\u001b[0m\u001b[0;34m,\u001b[0m \u001b[0mweights\u001b[0m\u001b[0;34m,\u001b[0m \u001b[0mdensity\u001b[0m\u001b[0;34m)\u001b[0m\u001b[0;34m\u001b[0m\u001b[0m\n\u001b[0m\u001b[1;32m    701\u001b[0m     \u001b[0;32mreturn\u001b[0m \u001b[0mhist\u001b[0m\u001b[0;34m,\u001b[0m \u001b[0medges\u001b[0m\u001b[0;34m[\u001b[0m\u001b[0;36m0\u001b[0m\u001b[0;34m]\u001b[0m\u001b[0;34m,\u001b[0m \u001b[0medges\u001b[0m\u001b[0;34m[\u001b[0m\u001b[0;36m1\u001b[0m\u001b[0;34m]\u001b[0m\u001b[0;34m\u001b[0m\u001b[0m\n\u001b[1;32m    702\u001b[0m \u001b[0;34m\u001b[0m\u001b[0m\n",
      "\u001b[0;32m~/virtualenvs/venv/lib/python3.5/site-packages/numpy/lib/histograms.py\u001b[0m in \u001b[0;36mhistogramdd\u001b[0;34m(sample, bins, range, normed, weights, density)\u001b[0m\n\u001b[1;32m   1029\u001b[0m                 raise ValueError(\n\u001b[1;32m   1030\u001b[0m                     '`bins[{}]` must be positive, when an integer'.format(i))\n\u001b[0;32m-> 1031\u001b[0;31m             \u001b[0msmin\u001b[0m\u001b[0;34m,\u001b[0m \u001b[0msmax\u001b[0m \u001b[0;34m=\u001b[0m \u001b[0m_get_outer_edges\u001b[0m\u001b[0;34m(\u001b[0m\u001b[0msample\u001b[0m\u001b[0;34m[\u001b[0m\u001b[0;34m:\u001b[0m\u001b[0;34m,\u001b[0m\u001b[0mi\u001b[0m\u001b[0;34m]\u001b[0m\u001b[0;34m,\u001b[0m \u001b[0mrange\u001b[0m\u001b[0;34m[\u001b[0m\u001b[0mi\u001b[0m\u001b[0;34m]\u001b[0m\u001b[0;34m)\u001b[0m\u001b[0;34m\u001b[0m\u001b[0m\n\u001b[0m\u001b[1;32m   1032\u001b[0m             \u001b[0medges\u001b[0m\u001b[0;34m[\u001b[0m\u001b[0mi\u001b[0m\u001b[0;34m]\u001b[0m \u001b[0;34m=\u001b[0m \u001b[0mnp\u001b[0m\u001b[0;34m.\u001b[0m\u001b[0mlinspace\u001b[0m\u001b[0;34m(\u001b[0m\u001b[0msmin\u001b[0m\u001b[0;34m,\u001b[0m \u001b[0msmax\u001b[0m\u001b[0;34m,\u001b[0m \u001b[0mbins\u001b[0m\u001b[0;34m[\u001b[0m\u001b[0mi\u001b[0m\u001b[0;34m]\u001b[0m \u001b[0;34m+\u001b[0m \u001b[0;36m1\u001b[0m\u001b[0;34m)\u001b[0m\u001b[0;34m\u001b[0m\u001b[0m\n\u001b[1;32m   1033\u001b[0m         \u001b[0;32melif\u001b[0m \u001b[0mnp\u001b[0m\u001b[0;34m.\u001b[0m\u001b[0mndim\u001b[0m\u001b[0;34m(\u001b[0m\u001b[0mbins\u001b[0m\u001b[0;34m[\u001b[0m\u001b[0mi\u001b[0m\u001b[0;34m]\u001b[0m\u001b[0;34m)\u001b[0m \u001b[0;34m==\u001b[0m \u001b[0;36m1\u001b[0m\u001b[0;34m:\u001b[0m\u001b[0;34m\u001b[0m\u001b[0m\n",
      "\u001b[0;32m~/virtualenvs/venv/lib/python3.5/site-packages/numpy/lib/histograms.py\u001b[0m in \u001b[0;36m_get_outer_edges\u001b[0;34m(a, range)\u001b[0m\n\u001b[1;32m    310\u001b[0m         \u001b[0mfirst_edge\u001b[0m\u001b[0;34m,\u001b[0m \u001b[0mlast_edge\u001b[0m \u001b[0;34m=\u001b[0m \u001b[0;36m0\u001b[0m\u001b[0;34m,\u001b[0m \u001b[0;36m1\u001b[0m\u001b[0;34m\u001b[0m\u001b[0m\n\u001b[1;32m    311\u001b[0m     \u001b[0;32melse\u001b[0m\u001b[0;34m:\u001b[0m\u001b[0;34m\u001b[0m\u001b[0m\n\u001b[0;32m--> 312\u001b[0;31m         \u001b[0mfirst_edge\u001b[0m\u001b[0;34m,\u001b[0m \u001b[0mlast_edge\u001b[0m \u001b[0;34m=\u001b[0m \u001b[0ma\u001b[0m\u001b[0;34m.\u001b[0m\u001b[0mmin\u001b[0m\u001b[0;34m(\u001b[0m\u001b[0;34m)\u001b[0m\u001b[0;34m,\u001b[0m \u001b[0ma\u001b[0m\u001b[0;34m.\u001b[0m\u001b[0mmax\u001b[0m\u001b[0;34m(\u001b[0m\u001b[0;34m)\u001b[0m\u001b[0;34m\u001b[0m\u001b[0m\n\u001b[0m\u001b[1;32m    313\u001b[0m         \u001b[0;32mif\u001b[0m \u001b[0;32mnot\u001b[0m \u001b[0;34m(\u001b[0m\u001b[0mnp\u001b[0m\u001b[0;34m.\u001b[0m\u001b[0misfinite\u001b[0m\u001b[0;34m(\u001b[0m\u001b[0mfirst_edge\u001b[0m\u001b[0;34m)\u001b[0m \u001b[0;32mand\u001b[0m \u001b[0mnp\u001b[0m\u001b[0;34m.\u001b[0m\u001b[0misfinite\u001b[0m\u001b[0;34m(\u001b[0m\u001b[0mlast_edge\u001b[0m\u001b[0;34m)\u001b[0m\u001b[0;34m)\u001b[0m\u001b[0;34m:\u001b[0m\u001b[0;34m\u001b[0m\u001b[0m\n\u001b[1;32m    314\u001b[0m             raise ValueError(\n",
      "\u001b[0;32m~/virtualenvs/venv/lib/python3.5/site-packages/numpy/core/_methods.py\u001b[0m in \u001b[0;36m_amin\u001b[0;34m(a, axis, out, keepdims, initial)\u001b[0m\n\u001b[1;32m     30\u001b[0m def _amin(a, axis=None, out=None, keepdims=False,\n\u001b[1;32m     31\u001b[0m           initial=_NoValue):\n\u001b[0;32m---> 32\u001b[0;31m     \u001b[0;32mreturn\u001b[0m \u001b[0mumr_minimum\u001b[0m\u001b[0;34m(\u001b[0m\u001b[0ma\u001b[0m\u001b[0;34m,\u001b[0m \u001b[0maxis\u001b[0m\u001b[0;34m,\u001b[0m \u001b[0;32mNone\u001b[0m\u001b[0;34m,\u001b[0m \u001b[0mout\u001b[0m\u001b[0;34m,\u001b[0m \u001b[0mkeepdims\u001b[0m\u001b[0;34m,\u001b[0m \u001b[0minitial\u001b[0m\u001b[0;34m)\u001b[0m\u001b[0;34m\u001b[0m\u001b[0m\n\u001b[0m\u001b[1;32m     33\u001b[0m \u001b[0;34m\u001b[0m\u001b[0m\n\u001b[1;32m     34\u001b[0m def _sum(a, axis=None, dtype=None, out=None, keepdims=False,\n",
      "\u001b[0;31mTypeError\u001b[0m: cannot perform reduce with flexible type"
     ]
    },
    {
     "data": {
      "image/png": "[encoded data removed]",
      "text/plain": [
       "<Figure size 432x288 with 1 Axes>"
      ]
     },
     "metadata": {
      "needs_background": "light"
     },
     "output_type": "display_data"
    }
   ],
   "source": [
    "plt.subplot(projection='aitoff')\n",
    "image, xbins, ybins = np.histogram2d(important_data[1], important_data[2])\n",
    "plt.imshow(image, interpolation=None)\n",
    "plt.show()"
   ]
  },
  {
   "cell_type": "code",
   "execution_count": 33,
   "metadata": {},
   "outputs": [
    {
     "data": {
      "text/plain": [
       "['aitoff', 'hammer', 'lambert', 'mollweide', 'polar', 'rectilinear']"
      ]
     },
     "execution_count": 33,
     "metadata": {},
     "output_type": "execute_result"
    }
   ],
   "source": [
    "matplotlib.projections.get_projection_names()"
   ]
  },
  {
   "cell_type": "code",
   "execution_count": null,
   "metadata": {},
   "outputs": [],
   "source": []
  }
 ],
 "metadata": {
  "kernelspec": {
   "display_name": "Python 3",
   "language": "python",
   "name": "python3"
  },
  "language_info": {
   "codemirror_mode": {
    "name": "ipython",
    "version": 3
   },
   "file_extension": ".py",
   "mimetype": "text/x-python",
   "name": "python",
   "nbconvert_exporter": "python",
   "pygments_lexer": "ipython3",
   "version": "3.5.2"
  }
 },
 "nbformat": 4,
 "nbformat_minor": 2
}
